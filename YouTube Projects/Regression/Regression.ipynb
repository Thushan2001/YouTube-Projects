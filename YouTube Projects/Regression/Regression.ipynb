{
  "nbformat": 4,
  "nbformat_minor": 0,
  "metadata": {
    "colab": {
      "provenance": [],
      "gpuType": "T4"
    },
    "kernelspec": {
      "name": "python3",
      "display_name": "Python 3"
    },
    "language_info": {
      "name": "python"
    },
    "accelerator": "GPU"
  },
  "cells": [
    {
      "cell_type": "code",
      "execution_count": null,
      "metadata": {
        "colab": {
          "base_uri": "https://localhost:8080/"
        },
        "id": "lZ0I8wuiks-K",
        "outputId": "2f4a1324-45b7-4a31-9fe5-4306be8372a6"
      },
      "outputs": [
        {
          "output_type": "stream",
          "name": "stdout",
          "text": [
            "Collecting opendatasets\n",
            "  Downloading opendatasets-0.1.22-py3-none-any.whl (15 kB)\n",
            "Requirement already satisfied: tqdm in /usr/local/lib/python3.10/dist-packages (from opendatasets) (4.66.1)\n",
            "Requirement already satisfied: kaggle in /usr/local/lib/python3.10/dist-packages (from opendatasets) (1.5.16)\n",
            "Requirement already satisfied: click in /usr/local/lib/python3.10/dist-packages (from opendatasets) (8.1.7)\n",
            "Requirement already satisfied: six>=1.10 in /usr/local/lib/python3.10/dist-packages (from kaggle->opendatasets) (1.16.0)\n",
            "Requirement already satisfied: certifi in /usr/local/lib/python3.10/dist-packages (from kaggle->opendatasets) (2023.11.17)\n",
            "Requirement already satisfied: python-dateutil in /usr/local/lib/python3.10/dist-packages (from kaggle->opendatasets) (2.8.2)\n",
            "Requirement already satisfied: requests in /usr/local/lib/python3.10/dist-packages (from kaggle->opendatasets) (2.31.0)\n",
            "Requirement already satisfied: python-slugify in /usr/local/lib/python3.10/dist-packages (from kaggle->opendatasets) (8.0.2)\n",
            "Requirement already satisfied: urllib3 in /usr/local/lib/python3.10/dist-packages (from kaggle->opendatasets) (2.0.7)\n",
            "Requirement already satisfied: bleach in /usr/local/lib/python3.10/dist-packages (from kaggle->opendatasets) (6.1.0)\n",
            "Requirement already satisfied: webencodings in /usr/local/lib/python3.10/dist-packages (from bleach->kaggle->opendatasets) (0.5.1)\n",
            "Requirement already satisfied: text-unidecode>=1.3 in /usr/local/lib/python3.10/dist-packages (from python-slugify->kaggle->opendatasets) (1.3)\n",
            "Requirement already satisfied: charset-normalizer<4,>=2 in /usr/local/lib/python3.10/dist-packages (from requests->kaggle->opendatasets) (3.3.2)\n",
            "Requirement already satisfied: idna<4,>=2.5 in /usr/local/lib/python3.10/dist-packages (from requests->kaggle->opendatasets) (3.6)\n",
            "Installing collected packages: opendatasets\n",
            "Successfully installed opendatasets-0.1.22\n"
          ]
        }
      ],
      "source": [
        "pip install opendatasets"
      ]
    },
    {
      "cell_type": "code",
      "source": [
        "import pandas as pd\n",
        "import matplotlib.pyplot as plt\n",
        "import tensorflow as tf\n",
        "import opendatasets as od\n"
      ],
      "metadata": {
        "id": "2YfQEf-FlFQr"
      },
      "execution_count": null,
      "outputs": []
    },
    {
      "cell_type": "code",
      "source": [
        "od.download(\"https://www.kaggle.com/datasets/andonians/random-linear-regression\")"
      ],
      "metadata": {
        "colab": {
          "base_uri": "https://localhost:8080/"
        },
        "id": "QpKsYQs6lXos",
        "outputId": "bbb18c06-1cb3-420d-daa3-8c7300457fa3"
      },
      "execution_count": null,
      "outputs": [
        {
          "output_type": "stream",
          "name": "stdout",
          "text": [
            "Please provide your Kaggle credentials to download this dataset. Learn more: http://bit.ly/kaggle-creds\n",
            "Your Kaggle username: thushanmaduranga\n",
            "Your Kaggle Key: ··········\n",
            "Downloading random-linear-regression.zip to ./random-linear-regression\n"
          ]
        },
        {
          "output_type": "stream",
          "name": "stderr",
          "text": [
            "100%|██████████| 7.63k/7.63k [00:00<00:00, 12.7MB/s]"
          ]
        },
        {
          "output_type": "stream",
          "name": "stdout",
          "text": [
            "\n"
          ]
        },
        {
          "output_type": "stream",
          "name": "stderr",
          "text": [
            "\n"
          ]
        }
      ]
    },
    {
      "cell_type": "code",
      "source": [
        "data=pd.read_csv(\"/content/random-linear-regression/test.csv\")"
      ],
      "metadata": {
        "id": "A49Bkb6BpLKx"
      },
      "execution_count": null,
      "outputs": []
    },
    {
      "cell_type": "code",
      "source": [
        "data.head()"
      ],
      "metadata": {
        "colab": {
          "base_uri": "https://localhost:8080/",
          "height": 206
        },
        "id": "2mCJk4jKp0EV",
        "outputId": "a1ae7cf2-c753-4248-ecc0-a9fff0fdb90a"
      },
      "execution_count": null,
      "outputs": [
        {
          "output_type": "execute_result",
          "data": {
            "text/plain": [
              "    x          y\n",
              "0  77  79.775152\n",
              "1  21  23.177279\n",
              "2  22  25.609262\n",
              "3  20  17.857388\n",
              "4  36  41.849864"
            ],
            "text/html": [
              "\n",
              "  <div id=\"df-3198e3b3-db2b-438e-8af6-32c9caa4d0d3\" class=\"colab-df-container\">\n",
              "    <div>\n",
              "<style scoped>\n",
              "    .dataframe tbody tr th:only-of-type {\n",
              "        vertical-align: middle;\n",
              "    }\n",
              "\n",
              "    .dataframe tbody tr th {\n",
              "        vertical-align: top;\n",
              "    }\n",
              "\n",
              "    .dataframe thead th {\n",
              "        text-align: right;\n",
              "    }\n",
              "</style>\n",
              "<table border=\"1\" class=\"dataframe\">\n",
              "  <thead>\n",
              "    <tr style=\"text-align: right;\">\n",
              "      <th></th>\n",
              "      <th>x</th>\n",
              "      <th>y</th>\n",
              "    </tr>\n",
              "  </thead>\n",
              "  <tbody>\n",
              "    <tr>\n",
              "      <th>0</th>\n",
              "      <td>77</td>\n",
              "      <td>79.775152</td>\n",
              "    </tr>\n",
              "    <tr>\n",
              "      <th>1</th>\n",
              "      <td>21</td>\n",
              "      <td>23.177279</td>\n",
              "    </tr>\n",
              "    <tr>\n",
              "      <th>2</th>\n",
              "      <td>22</td>\n",
              "      <td>25.609262</td>\n",
              "    </tr>\n",
              "    <tr>\n",
              "      <th>3</th>\n",
              "      <td>20</td>\n",
              "      <td>17.857388</td>\n",
              "    </tr>\n",
              "    <tr>\n",
              "      <th>4</th>\n",
              "      <td>36</td>\n",
              "      <td>41.849864</td>\n",
              "    </tr>\n",
              "  </tbody>\n",
              "</table>\n",
              "</div>\n",
              "    <div class=\"colab-df-buttons\">\n",
              "\n",
              "  <div class=\"colab-df-container\">\n",
              "    <button class=\"colab-df-convert\" onclick=\"convertToInteractive('df-3198e3b3-db2b-438e-8af6-32c9caa4d0d3')\"\n",
              "            title=\"Convert this dataframe to an interactive table.\"\n",
              "            style=\"display:none;\">\n",
              "\n",
              "  <svg xmlns=\"http://www.w3.org/2000/svg\" height=\"24px\" viewBox=\"0 -960 960 960\">\n",
              "    <path d=\"M120-120v-720h720v720H120Zm60-500h600v-160H180v160Zm220 220h160v-160H400v160Zm0 220h160v-160H400v160ZM180-400h160v-160H180v160Zm440 0h160v-160H620v160ZM180-180h160v-160H180v160Zm440 0h160v-160H620v160Z\"/>\n",
              "  </svg>\n",
              "    </button>\n",
              "\n",
              "  <style>\n",
              "    .colab-df-container {\n",
              "      display:flex;\n",
              "      gap: 12px;\n",
              "    }\n",
              "\n",
              "    .colab-df-convert {\n",
              "      background-color: #E8F0FE;\n",
              "      border: none;\n",
              "      border-radius: 50%;\n",
              "      cursor: pointer;\n",
              "      display: none;\n",
              "      fill: #1967D2;\n",
              "      height: 32px;\n",
              "      padding: 0 0 0 0;\n",
              "      width: 32px;\n",
              "    }\n",
              "\n",
              "    .colab-df-convert:hover {\n",
              "      background-color: #E2EBFA;\n",
              "      box-shadow: 0px 1px 2px rgba(60, 64, 67, 0.3), 0px 1px 3px 1px rgba(60, 64, 67, 0.15);\n",
              "      fill: #174EA6;\n",
              "    }\n",
              "\n",
              "    .colab-df-buttons div {\n",
              "      margin-bottom: 4px;\n",
              "    }\n",
              "\n",
              "    [theme=dark] .colab-df-convert {\n",
              "      background-color: #3B4455;\n",
              "      fill: #D2E3FC;\n",
              "    }\n",
              "\n",
              "    [theme=dark] .colab-df-convert:hover {\n",
              "      background-color: #434B5C;\n",
              "      box-shadow: 0px 1px 3px 1px rgba(0, 0, 0, 0.15);\n",
              "      filter: drop-shadow(0px 1px 2px rgba(0, 0, 0, 0.3));\n",
              "      fill: #FFFFFF;\n",
              "    }\n",
              "  </style>\n",
              "\n",
              "    <script>\n",
              "      const buttonEl =\n",
              "        document.querySelector('#df-3198e3b3-db2b-438e-8af6-32c9caa4d0d3 button.colab-df-convert');\n",
              "      buttonEl.style.display =\n",
              "        google.colab.kernel.accessAllowed ? 'block' : 'none';\n",
              "\n",
              "      async function convertToInteractive(key) {\n",
              "        const element = document.querySelector('#df-3198e3b3-db2b-438e-8af6-32c9caa4d0d3');\n",
              "        const dataTable =\n",
              "          await google.colab.kernel.invokeFunction('convertToInteractive',\n",
              "                                                    [key], {});\n",
              "        if (!dataTable) return;\n",
              "\n",
              "        const docLinkHtml = 'Like what you see? Visit the ' +\n",
              "          '<a target=\"_blank\" href=https://colab.research.google.com/notebooks/data_table.ipynb>data table notebook</a>'\n",
              "          + ' to learn more about interactive tables.';\n",
              "        element.innerHTML = '';\n",
              "        dataTable['output_type'] = 'display_data';\n",
              "        await google.colab.output.renderOutput(dataTable, element);\n",
              "        const docLink = document.createElement('div');\n",
              "        docLink.innerHTML = docLinkHtml;\n",
              "        element.appendChild(docLink);\n",
              "      }\n",
              "    </script>\n",
              "  </div>\n",
              "\n",
              "\n",
              "<div id=\"df-375a3861-98ef-4f3f-a695-647d552058ee\">\n",
              "  <button class=\"colab-df-quickchart\" onclick=\"quickchart('df-375a3861-98ef-4f3f-a695-647d552058ee')\"\n",
              "            title=\"Suggest charts\"\n",
              "            style=\"display:none;\">\n",
              "\n",
              "<svg xmlns=\"http://www.w3.org/2000/svg\" height=\"24px\"viewBox=\"0 0 24 24\"\n",
              "     width=\"24px\">\n",
              "    <g>\n",
              "        <path d=\"M19 3H5c-1.1 0-2 .9-2 2v14c0 1.1.9 2 2 2h14c1.1 0 2-.9 2-2V5c0-1.1-.9-2-2-2zM9 17H7v-7h2v7zm4 0h-2V7h2v10zm4 0h-2v-4h2v4z\"/>\n",
              "    </g>\n",
              "</svg>\n",
              "  </button>\n",
              "\n",
              "<style>\n",
              "  .colab-df-quickchart {\n",
              "      --bg-color: #E8F0FE;\n",
              "      --fill-color: #1967D2;\n",
              "      --hover-bg-color: #E2EBFA;\n",
              "      --hover-fill-color: #174EA6;\n",
              "      --disabled-fill-color: #AAA;\n",
              "      --disabled-bg-color: #DDD;\n",
              "  }\n",
              "\n",
              "  [theme=dark] .colab-df-quickchart {\n",
              "      --bg-color: #3B4455;\n",
              "      --fill-color: #D2E3FC;\n",
              "      --hover-bg-color: #434B5C;\n",
              "      --hover-fill-color: #FFFFFF;\n",
              "      --disabled-bg-color: #3B4455;\n",
              "      --disabled-fill-color: #666;\n",
              "  }\n",
              "\n",
              "  .colab-df-quickchart {\n",
              "    background-color: var(--bg-color);\n",
              "    border: none;\n",
              "    border-radius: 50%;\n",
              "    cursor: pointer;\n",
              "    display: none;\n",
              "    fill: var(--fill-color);\n",
              "    height: 32px;\n",
              "    padding: 0;\n",
              "    width: 32px;\n",
              "  }\n",
              "\n",
              "  .colab-df-quickchart:hover {\n",
              "    background-color: var(--hover-bg-color);\n",
              "    box-shadow: 0 1px 2px rgba(60, 64, 67, 0.3), 0 1px 3px 1px rgba(60, 64, 67, 0.15);\n",
              "    fill: var(--button-hover-fill-color);\n",
              "  }\n",
              "\n",
              "  .colab-df-quickchart-complete:disabled,\n",
              "  .colab-df-quickchart-complete:disabled:hover {\n",
              "    background-color: var(--disabled-bg-color);\n",
              "    fill: var(--disabled-fill-color);\n",
              "    box-shadow: none;\n",
              "  }\n",
              "\n",
              "  .colab-df-spinner {\n",
              "    border: 2px solid var(--fill-color);\n",
              "    border-color: transparent;\n",
              "    border-bottom-color: var(--fill-color);\n",
              "    animation:\n",
              "      spin 1s steps(1) infinite;\n",
              "  }\n",
              "\n",
              "  @keyframes spin {\n",
              "    0% {\n",
              "      border-color: transparent;\n",
              "      border-bottom-color: var(--fill-color);\n",
              "      border-left-color: var(--fill-color);\n",
              "    }\n",
              "    20% {\n",
              "      border-color: transparent;\n",
              "      border-left-color: var(--fill-color);\n",
              "      border-top-color: var(--fill-color);\n",
              "    }\n",
              "    30% {\n",
              "      border-color: transparent;\n",
              "      border-left-color: var(--fill-color);\n",
              "      border-top-color: var(--fill-color);\n",
              "      border-right-color: var(--fill-color);\n",
              "    }\n",
              "    40% {\n",
              "      border-color: transparent;\n",
              "      border-right-color: var(--fill-color);\n",
              "      border-top-color: var(--fill-color);\n",
              "    }\n",
              "    60% {\n",
              "      border-color: transparent;\n",
              "      border-right-color: var(--fill-color);\n",
              "    }\n",
              "    80% {\n",
              "      border-color: transparent;\n",
              "      border-right-color: var(--fill-color);\n",
              "      border-bottom-color: var(--fill-color);\n",
              "    }\n",
              "    90% {\n",
              "      border-color: transparent;\n",
              "      border-bottom-color: var(--fill-color);\n",
              "    }\n",
              "  }\n",
              "</style>\n",
              "\n",
              "  <script>\n",
              "    async function quickchart(key) {\n",
              "      const quickchartButtonEl =\n",
              "        document.querySelector('#' + key + ' button');\n",
              "      quickchartButtonEl.disabled = true;  // To prevent multiple clicks.\n",
              "      quickchartButtonEl.classList.add('colab-df-spinner');\n",
              "      try {\n",
              "        const charts = await google.colab.kernel.invokeFunction(\n",
              "            'suggestCharts', [key], {});\n",
              "      } catch (error) {\n",
              "        console.error('Error during call to suggestCharts:', error);\n",
              "      }\n",
              "      quickchartButtonEl.classList.remove('colab-df-spinner');\n",
              "      quickchartButtonEl.classList.add('colab-df-quickchart-complete');\n",
              "    }\n",
              "    (() => {\n",
              "      let quickchartButtonEl =\n",
              "        document.querySelector('#df-375a3861-98ef-4f3f-a695-647d552058ee button');\n",
              "      quickchartButtonEl.style.display =\n",
              "        google.colab.kernel.accessAllowed ? 'block' : 'none';\n",
              "    })();\n",
              "  </script>\n",
              "</div>\n",
              "\n",
              "    </div>\n",
              "  </div>\n"
            ]
          },
          "metadata": {},
          "execution_count": 5
        }
      ]
    },
    {
      "cell_type": "code",
      "source": [
        "data.shape"
      ],
      "metadata": {
        "colab": {
          "base_uri": "https://localhost:8080/"
        },
        "id": "ooE7vteEp5k_",
        "outputId": "c3fd2394-e241-4505-cd26-a85ee8c1e805"
      },
      "execution_count": null,
      "outputs": [
        {
          "output_type": "execute_result",
          "data": {
            "text/plain": [
              "(300, 2)"
            ]
          },
          "metadata": {},
          "execution_count": 6
        }
      ]
    },
    {
      "cell_type": "code",
      "source": [
        "x=data[\"x\"]\n",
        "y=data[\"y\"]"
      ],
      "metadata": {
        "id": "CctnAKr4qDlP"
      },
      "execution_count": null,
      "outputs": []
    },
    {
      "cell_type": "code",
      "source": [
        "x"
      ],
      "metadata": {
        "colab": {
          "base_uri": "https://localhost:8080/"
        },
        "id": "2dQDKn_cqawf",
        "outputId": "6a326dfe-0385-48a6-ebed-c6867b97123c"
      },
      "execution_count": null,
      "outputs": [
        {
          "output_type": "execute_result",
          "data": {
            "text/plain": [
              "0      77\n",
              "1      21\n",
              "2      22\n",
              "3      20\n",
              "4      36\n",
              "       ..\n",
              "295    71\n",
              "296    46\n",
              "297    55\n",
              "298    62\n",
              "299    47\n",
              "Name: x, Length: 300, dtype: int64"
            ]
          },
          "metadata": {},
          "execution_count": 9
        }
      ]
    },
    {
      "cell_type": "code",
      "source": [
        "y"
      ],
      "metadata": {
        "colab": {
          "base_uri": "https://localhost:8080/"
        },
        "id": "deTj7gY7qccG",
        "outputId": "937ece3d-7075-4e4f-8c6a-125f24d0bdb7"
      },
      "execution_count": null,
      "outputs": [
        {
          "output_type": "execute_result",
          "data": {
            "text/plain": [
              "0      79.775152\n",
              "1      23.177279\n",
              "2      25.609262\n",
              "3      17.857388\n",
              "4      41.849864\n",
              "         ...    \n",
              "295    68.545888\n",
              "296    47.334876\n",
              "297    54.090637\n",
              "298    63.297171\n",
              "299    52.459467\n",
              "Name: y, Length: 300, dtype: float64"
            ]
          },
          "metadata": {},
          "execution_count": 10
        }
      ]
    },
    {
      "cell_type": "code",
      "source": [
        "plt.scatter(x,y,c=\"b\")\n",
        "plt.show()"
      ],
      "metadata": {
        "colab": {
          "base_uri": "https://localhost:8080/",
          "height": 430
        },
        "id": "mJIjORYcqe3r",
        "outputId": "040cba96-3e31-4e8a-fd1c-32abbe64ed28"
      },
      "execution_count": null,
      "outputs": [
        {
          "output_type": "display_data",
          "data": {
            "text/plain": [
              "<Figure size 640x480 with 1 Axes>"
            ],
            "image/png": "[encoded data removed]"
          },
          "metadata": {}
        }
      ]
    },
    {
      "cell_type": "code",
      "source": [
        "from sklearn.model_selection import train_test_split\n",
        "x_train, x_test, y_train, y_test = train_test_split(x, y, test_size=0.2, random_state=42)"
      ],
      "metadata": {
        "id": "RazWsy5SrUDU"
      },
      "execution_count": null,
      "outputs": []
    },
    {
      "cell_type": "code",
      "source": [
        "x_train.shape, x_test.shape"
      ],
      "metadata": {
        "colab": {
          "base_uri": "https://localhost:8080/"
        },
        "id": "OD3q2xvbsc1R",
        "outputId": "5f0164ba-3897-4ad5-89ec-db33f28fa796"
      },
      "execution_count": null,
      "outputs": [
        {
          "output_type": "execute_result",
          "data": {
            "text/plain": [
              "((240,), (60,))"
            ]
          },
          "metadata": {},
          "execution_count": 14
        }
      ]
    },
    {
      "cell_type": "code",
      "source": [
        "plt.scatter(x_train, y_train, c=\"b\", label=\"Training Data\")\n",
        "plt.scatter(x_test, y_test, c=\"y\", label=\"Testing Data\")\n",
        "plt.legend()\n",
        "plt.show()"
      ],
      "metadata": {
        "colab": {
          "base_uri": "https://localhost:8080/",
          "height": 430
        },
        "id": "9FhmJBXis8V1",
        "outputId": "8fec0f0d-11a3-42fb-c614-1e06adba6710"
      },
      "execution_count": null,
      "outputs": [
        {
          "output_type": "display_data",
          "data": {
            "text/plain": [
              "<Figure size 640x480 with 1 Axes>"
            ],
            "image/png": "[encoded data removed]"
          },
          "metadata": {}
        }
      ]
    },
    {
      "cell_type": "markdown",
      "source": [
        "Model Building"
      ],
      "metadata": {
        "id": "v3c_tKgct_dh"
      }
    },
    {
      "cell_type": "code",
      "source": [
        "#create a model\n",
        "model = tf.keras.Sequential([\n",
        "    tf.keras.layers.Dense(64,input_shape=(1,)),\n",
        "    tf.keras.layers.Dense(10),\n",
        "    tf.keras.layers.Dense(1)\n",
        "])"
      ],
      "metadata": {
        "id": "MulfxvHh2GJx"
      },
      "execution_count": null,
      "outputs": []
    },
    {
      "cell_type": "code",
      "source": [
        "#compile model\n",
        "model.compile(loss=tf.keras.losses.mae,\n",
        "              optimizer=tf.keras.optimizers.Adam(lr=0.05),\n",
        "              metrics=[\"mae\"])\n"
      ],
      "metadata": {
        "colab": {
          "base_uri": "https://localhost:8080/"
        },
        "id": "SXP5pJxhyG_m",
        "outputId": "d0eca992-1c1e-499b-932b-7e44c7e669d8"
      },
      "execution_count": null,
      "outputs": [
        {
          "output_type": "stream",
          "name": "stderr",
          "text": [
            "WARNING:absl:`lr` is deprecated in Keras optimizer, please use `learning_rate` or use the legacy optimizer, e.g.,tf.keras.optimizers.legacy.Adam.\n"
          ]
        }
      ]
    },
    {
      "cell_type": "code",
      "source": [
        "#train model\n",
        "epochs_number = 10\n",
        "history=model.fit(tf.expand_dims(x_train, axis = 1), y_train, epochs = epochs_number)"
      ],
      "metadata": {
        "colab": {
          "base_uri": "https://localhost:8080/"
        },
        "id": "1O0TUlVS7Wiv",
        "outputId": "452bc119-ac88-4a94-da47-ce22ba592e1a"
      },
      "execution_count": null,
      "outputs": [
        {
          "output_type": "stream",
          "name": "stdout",
          "text": [
            "Epoch 1/10\n",
            "8/8 [==============================] - 0s 5ms/step - loss: 2.5189 - mae: 2.5189\n",
            "Epoch 2/10\n",
            "8/8 [==============================] - 0s 5ms/step - loss: 2.3808 - mae: 2.3808\n",
            "Epoch 3/10\n",
            "8/8 [==============================] - 0s 5ms/step - loss: 2.4355 - mae: 2.4355\n",
            "Epoch 4/10\n",
            "8/8 [==============================] - 0s 5ms/step - loss: 2.4030 - mae: 2.4030\n",
            "Epoch 5/10\n",
            "8/8 [==============================] - 0s 5ms/step - loss: 2.4038 - mae: 2.4038\n",
            "Epoch 6/10\n",
            "8/8 [==============================] - 0s 6ms/step - loss: 2.4863 - mae: 2.4863\n",
            "Epoch 7/10\n",
            "8/8 [==============================] - 0s 4ms/step - loss: 2.5709 - mae: 2.5709\n",
            "Epoch 8/10\n",
            "8/8 [==============================] - 0s 5ms/step - loss: 2.4692 - mae: 2.4692\n",
            "Epoch 9/10\n",
            "8/8 [==============================] - 0s 5ms/step - loss: 2.4504 - mae: 2.4504\n",
            "Epoch 10/10\n",
            "8/8 [==============================] - 0s 5ms/step - loss: 2.4306 - mae: 2.4306\n"
          ]
        }
      ]
    },
    {
      "cell_type": "code",
      "source": [
        "model.summary()"
      ],
      "metadata": {
        "colab": {
          "base_uri": "https://localhost:8080/"
        },
        "id": "U3dVEX6O_K_v",
        "outputId": "ae85ca28-cbde-455a-c2f5-9e3c493148e5"
      },
      "execution_count": null,
      "outputs": [
        {
          "output_type": "stream",
          "name": "stdout",
          "text": [
            "Model: \"sequential_1\"\n",
            "_________________________________________________________________\n",
            " Layer (type)                Output Shape              Param #   \n",
            "=================================================================\n",
            " dense_20 (Dense)            (None, 64)                128       \n",
            "                                                                 \n",
            " dense_21 (Dense)            (None, 10)                650       \n",
            "                                                                 \n",
            " dense_22 (Dense)            (None, 1)                 11        \n",
            "                                                                 \n",
            "=================================================================\n",
            "Total params: 789 (3.08 KB)\n",
            "Trainable params: 789 (3.08 KB)\n",
            "Non-trainable params: 0 (0.00 Byte)\n",
            "_________________________________________________________________\n"
          ]
        }
      ]
    },
    {
      "cell_type": "code",
      "source": [
        "y_predictions = model.predict(x_test)\n",
        "y_predictions[:5]"
      ],
      "metadata": {
        "colab": {
          "base_uri": "https://localhost:8080/"
        },
        "id": "LGfMiVum_bqg",
        "outputId": "f0c28a0a-b734-4e31-f035-bd28ab27bc33"
      },
      "execution_count": null,
      "outputs": [
        {
          "output_type": "stream",
          "name": "stdout",
          "text": [
            "2/2 [==============================] - 0s 5ms/step\n"
          ]
        },
        {
          "output_type": "execute_result",
          "data": {
            "text/plain": [
              "array([[91.68957 ],\n",
              "       [77.445755],\n",
              "       [95.75923 ],\n",
              "       [ 5.209281],\n",
              "       [92.706985]], dtype=float32)"
            ]
          },
          "metadata": {},
          "execution_count": 89
        }
      ]
    },
    {
      "cell_type": "code",
      "source": [
        "y_test.head(5)"
      ],
      "metadata": {
        "colab": {
          "base_uri": "https://localhost:8080/"
        },
        "id": "jXIHTAEk__8E",
        "outputId": "480cf7ac-e400-47eb-bca1-c3d7b4ff27a3"
      },
      "execution_count": null,
      "outputs": [
        {
          "output_type": "execute_result",
          "data": {
            "text/plain": [
              "203    92.887723\n",
              "266    79.503415\n",
              "152    97.001484\n",
              "9       8.746748\n",
              "233    89.739520\n",
              "Name: y, dtype: float64"
            ]
          },
          "metadata": {},
          "execution_count": 90
        }
      ]
    },
    {
      "cell_type": "code",
      "source": [
        "plt.scatter(x_train, y_train, c =\"b\",label=\"Training Data\")\n",
        "plt.scatter(x_test, y_test, c=\"y\", label = \"Testing Data\")\n",
        "plt.scatter(x_test, y_predictions, c=\"r\", label=\"Predictions\")\n",
        "plt.legend()\n",
        "plt.show()"
      ],
      "metadata": {
        "colab": {
          "base_uri": "https://localhost:8080/",
          "height": 430
        },
        "id": "iaHO_TuRAq9o",
        "outputId": "13c70994-2542-4a0c-c41e-9d7ab13eecb0"
      },
      "execution_count": null,
      "outputs": [
        {
          "output_type": "display_data",
          "data": {
            "text/plain": [
              "<Figure size 640x480 with 1 Axes>"
            ],
            "image/png": "[encoded data removed]"
          },
          "metadata": {}
        }
      ]
    },
    {
      "cell_type": "code",
      "source": [
        "model.evaluate(x_test,y_test)"
      ],
      "metadata": {
        "colab": {
          "base_uri": "https://localhost:8080/"
        },
        "id": "XS-saa3ZCVmG",
        "outputId": "336127c3-3986-4571-c97e-8ce5fa424b7d"
      },
      "execution_count": null,
      "outputs": [
        {
          "output_type": "stream",
          "name": "stdout",
          "text": [
            "2/2 [==============================] - 0s 7ms/step - loss: 2.6330 - mae: 2.6330\n"
          ]
        },
        {
          "output_type": "execute_result",
          "data": {
            "text/plain": [
              "[2.633042335510254, 2.633042335510254]"
            ]
          },
          "metadata": {},
          "execution_count": 92
        }
      ]
    },
    {
      "cell_type": "code",
      "source": [
        "#Using MAE\n",
        "mae = tf.metrics.mean_absolute_error(y_test, tf.squeeze(y_predictions))\n",
        "mae"
      ],
      "metadata": {
        "colab": {
          "base_uri": "https://localhost:8080/"
        },
        "id": "b8thvJS2CxDF",
        "outputId": "45d1427e-d818-4700-bebb-1c0e2825b175"
      },
      "execution_count": null,
      "outputs": [
        {
          "output_type": "execute_result",
          "data": {
            "text/plain": [
              "<tf.Tensor: shape=(), dtype=float32, numpy=2.6330423>"
            ]
          },
          "metadata": {},
          "execution_count": 93
        }
      ]
    },
    {
      "cell_type": "code",
      "source": [
        "#Using MSE\n",
        "mse = tf.metrics.mean_squared_error(y_test,tf.squeeze(y_predictions))\n",
        "mse"
      ],
      "metadata": {
        "colab": {
          "base_uri": "https://localhost:8080/"
        },
        "id": "W2xf8ullD53Z",
        "outputId": "5e6100be-acdd-47f4-aeaa-5f73017e5364"
      },
      "execution_count": null,
      "outputs": [
        {
          "output_type": "execute_result",
          "data": {
            "text/plain": [
              "<tf.Tensor: shape=(), dtype=float32, numpy=10.1009245>"
            ]
          },
          "metadata": {},
          "execution_count": 94
        }
      ]
    },
    {
      "cell_type": "code",
      "source": [
        "history.history"
      ],
      "metadata": {
        "colab": {
          "base_uri": "https://localhost:8080/"
        },
        "id": "A_Cuk7ktEVx1",
        "outputId": "ebbb8db7-7353-4886-a52c-5a7459fe97f1"
      },
      "execution_count": null,
      "outputs": [
        {
          "output_type": "execute_result",
          "data": {
            "text/plain": [
              "{'loss': [2.5188992023468018,\n",
              "  2.3808298110961914,\n",
              "  2.4354898929595947,\n",
              "  2.4029643535614014,\n",
              "  2.403846263885498,\n",
              "  2.4862873554229736,\n",
              "  2.570866107940674,\n",
              "  2.4691572189331055,\n",
              "  2.4504268169403076,\n",
              "  2.4306070804595947],\n",
              " 'mae': [2.5188992023468018,\n",
              "  2.3808298110961914,\n",
              "  2.4354898929595947,\n",
              "  2.4029643535614014,\n",
              "  2.403846263885498,\n",
              "  2.4862873554229736,\n",
              "  2.570866107940674,\n",
              "  2.4691572189331055,\n",
              "  2.4504268169403076,\n",
              "  2.4306070804595947]}"
            ]
          },
          "metadata": {},
          "execution_count": 96
        }
      ]
    },
    {
      "cell_type": "code",
      "source": [
        "x_range = range(1, epochs_number+1)\n",
        "loss = history.history[\"loss\"]\n",
        "plt.plot(x_range,loss)\n",
        "plt.xlabel(\"epochs\")\n",
        "plt.ylabel(\"loss\")\n",
        "plt.show()"
      ],
      "metadata": {
        "colab": {
          "base_uri": "https://localhost:8080/",
          "height": 449
        },
        "id": "38vvRhkBGNJ-",
        "outputId": "49ea2baf-dfbd-485f-cea6-9cbe38e37138"
      },
      "execution_count": null,
      "outputs": [
        {
          "output_type": "display_data",
          "data": {
            "text/plain": [
              "<Figure size 640x480 with 1 Axes>"
            ],
            "image/png": "[encoded data removed]"
          },
          "metadata": {}
        }
      ]
    },
    {
      "cell_type": "code",
      "source": [
        "for layer in model.layers:\n",
        "  weights = layer.get_weights()[0]\n",
        "  biases = layer.get_weights()[1]\n",
        "  print(f\"\\nWeights:\\n {weights} \\nBiases:\\n{biases}\")"
      ],
      "metadata": {
        "colab": {
          "base_uri": "https://localhost:8080/"
        },
        "id": "mEfhcXfmG9kG",
        "outputId": "5bc2c31a-a32f-4919-b04c-fcf3ff825e9e"
      },
      "execution_count": null,
      "outputs": [
        {
          "output_type": "stream",
          "name": "stdout",
          "text": [
            "\n",
            "Weights:\n",
            " [[ 0.09077318 -0.28298312 -0.19159204 -0.2280016  -0.12063786 -0.16835135\n",
            "  -0.00218185 -0.10080203  0.16744752  0.04106488  0.07289278  0.10015123\n",
            "  -0.09008414  0.28521234  0.11293835  0.0467794   0.28117436 -0.23965213\n",
            "  -0.05950415  0.00258523 -0.20533532  0.01880263  0.23426542  0.15254627\n",
            "  -0.07914065 -0.10877877 -0.26165444  0.13845067  0.12191862 -0.1064487\n",
            "  -0.22419487  0.14424881  0.27105886  0.00768675  0.2782014   0.17685397\n",
            "  -0.10115851  0.09587314  0.30712375 -0.02409323 -0.14138326 -0.23758896\n",
            "   0.04139177  0.03704765  0.13238211 -0.08159372 -0.25440133  0.17234142\n",
            "   0.21747623  0.061952   -0.08784913  0.11299499  0.09863409  0.10447598\n",
            "   0.11692507 -0.25049803 -0.02893266  0.16680104  0.00551014  0.06809211\n",
            "   0.04806333 -0.01839999 -0.02283291 -0.02558341]] \n",
            "Biases:\n",
            "[ 0.00680878 -0.00705854 -0.00486894  0.01294849 -0.00682873  0.04101464\n",
            "  0.01911465  0.01112436 -0.01977495 -0.01621151  0.00647358 -0.03109731\n",
            " -0.00631317  0.00571476 -0.03217421 -0.02198133  0.00801919  0.01641416\n",
            " -0.0079269   0.01703621 -0.0027935  -0.02194186  0.00653504  0.0064183\n",
            "  0.02892093  0.0161883  -0.00621445 -0.01360168  0.00676267  0.01198548\n",
            " -0.00789237  0.00493584  0.00638005 -0.02605939  0.00636336  0.00789609\n",
            " -0.00578435 -0.01353383  0.00583292  0.0106741   0.03700704  0.03830047\n",
            " -0.01199424  0.00528001 -0.01656091  0.0110686   0.01450386 -0.01258388\n",
            "  0.00545792  0.00782824 -0.00565537  0.00562914 -0.00765511  0.00691748\n",
            " -0.03158692  0.01588475 -0.00414339 -0.01183672 -0.01811301 -0.00867729\n",
            "  0.00793435  0.01735918 -0.00596886 -0.00472401]\n",
            "\n",
            "Weights:\n",
            " [[ 2.19011962e-01 -2.12715551e-01  2.08520755e-01 -1.74965084e-01\n",
            "   2.36184210e-01 -1.06461480e-01  1.68828398e-01 -1.47302508e-01\n",
            "  -7.91575164e-02 -2.81537950e-01]\n",
            " [-9.85708088e-03  1.61958307e-01 -2.50180691e-01  4.29535322e-02\n",
            "   2.59074438e-02  1.92527473e-01  1.16490126e-01  1.98281243e-01\n",
            "   4.29492928e-02  2.78520614e-01]\n",
            " [-1.21558987e-01  1.95666820e-01 -6.66301474e-02  2.25080699e-01\n",
            "   2.72695810e-01 -1.61914632e-01 -9.56504326e-03 -1.18151605e-01\n",
            "   1.06700897e-01 -2.02646464e-01]\n",
            " [ 1.87298849e-01 -1.71829253e-01 -2.43953720e-01  1.22273989e-01\n",
            "  -2.55490631e-01 -2.41646156e-01  5.02641574e-02  9.54024196e-02\n",
            "   1.14409678e-01  1.97747305e-01]\n",
            " [-2.64883846e-01 -1.86759396e-03 -7.88209289e-02  1.46710858e-01\n",
            "  -7.05039427e-02 -1.90548912e-01  1.64186358e-01 -2.70867169e-01\n",
            "  -4.24501598e-02 -2.36266121e-01]\n",
            " [-1.01998476e-02 -2.07485761e-02 -2.95583218e-01  1.70514092e-01\n",
            "  -1.53449997e-01 -1.32743165e-01  2.02101290e-01  2.28210136e-01\n",
            "  -6.00082576e-02 -2.17872933e-01]\n",
            " [ 1.03183407e-02 -1.20896108e-01 -1.20265104e-01 -1.03338018e-01\n",
            "  -2.30097190e-01  1.58501834e-01  1.30337104e-01  6.38778042e-03\n",
            "   1.63263977e-01  1.53185725e-01]\n",
            " [-1.63746804e-01 -3.27333957e-02  2.09970981e-01 -7.14920461e-02\n",
            "  -1.98720753e-01 -1.51624307e-01 -1.75378501e-01  1.05282262e-01\n",
            "  -5.83779858e-03  1.97925821e-01]\n",
            " [-1.45514697e-01  3.44560929e-02 -4.95376922e-02 -7.28512406e-02\n",
            "   5.93512803e-02 -1.46607667e-01  2.58251607e-01  1.40035391e-01\n",
            "   6.83720335e-02  1.74348205e-01]\n",
            " [-2.60914207e-01 -1.06931247e-01  5.56295402e-02 -2.45576739e-01\n",
            "   1.62753135e-01  3.81482579e-02 -1.41919345e-01 -1.32060140e-01\n",
            "  -1.80941805e-01 -1.32787190e-02]\n",
            " [-1.01015106e-01 -2.55307853e-01  2.95323551e-01  1.92117229e-01\n",
            "  -5.16522750e-02 -5.80306761e-02 -3.02245498e-01 -3.00256051e-02\n",
            "  -1.80301502e-01 -9.35931727e-02]\n",
            " [-1.23513639e-01  2.26940468e-01 -1.42763093e-01 -4.00848575e-02\n",
            "   2.17920512e-01  1.21756839e-02 -1.62050694e-01  1.68858245e-01\n",
            "   2.23369062e-01  4.69199717e-02]\n",
            " [ 1.98328957e-01  1.87272817e-01 -2.27649182e-01 -8.77114832e-02\n",
            "  -9.14833397e-02 -1.72497947e-02 -7.05961809e-02 -2.56996006e-01\n",
            "  -3.06088589e-02 -5.24397045e-02]\n",
            " [-2.20745176e-01 -2.50136018e-01 -2.95279641e-02 -1.48772687e-01\n",
            "   5.79614304e-02 -5.69959171e-02  9.62583523e-04  1.39371175e-02\n",
            "   5.53594232e-02 -2.37372681e-01]\n",
            " [ 1.57862827e-01  2.36101389e-01  2.56886214e-01  2.37348273e-01\n",
            "   1.67560756e-01  1.94682270e-01 -1.98939312e-02  1.79390311e-01\n",
            "   1.57381192e-01  1.05001211e-01]\n",
            " [-1.93591848e-01 -2.63253868e-01 -2.11245552e-01 -2.90499151e-01\n",
            "  -6.72915354e-02  9.78111401e-02  3.76229100e-02  6.17642216e-02\n",
            "  -6.13334514e-02  1.04834035e-01]\n",
            " [-3.16482857e-02 -2.21339554e-01 -1.56303905e-02 -1.53630376e-01\n",
            "   1.31589785e-01 -1.08672455e-01 -2.40528286e-01  2.47206956e-01\n",
            "   3.00144494e-01  2.12492481e-01]\n",
            " [-1.82568163e-01  2.95949072e-01 -4.42966558e-02  4.22215126e-02\n",
            "   1.65282339e-01  4.07964587e-02 -2.27614846e-02  1.37752771e-01\n",
            "   2.57425040e-01  4.21748422e-02]\n",
            " [-1.76174968e-01  1.98343158e-01 -2.01051399e-01  2.68978268e-01\n",
            "  -1.82132665e-02  2.01443464e-01 -1.34423226e-01 -2.90270567e-01\n",
            "   1.42246738e-01 -2.80610546e-02]\n",
            " [-1.07186086e-01  2.28466541e-01  2.44774297e-02 -9.83525366e-02\n",
            "  -2.01677039e-01  1.11292005e-01 -2.29288060e-02  1.53695270e-01\n",
            "   2.21373394e-01  1.87640280e-01]\n",
            " [-1.74800903e-01  6.84539881e-03 -1.31928205e-01  3.02317113e-01\n",
            "   4.79503572e-02 -1.68912157e-01 -1.75920308e-01 -1.17988966e-01\n",
            "   2.31025100e-01  2.36961484e-01]\n",
            " [-1.45172298e-01  1.77759066e-01 -1.13259435e-01  2.10507706e-01\n",
            "   6.63259327e-02 -2.21989155e-01 -4.52161953e-02 -7.46205375e-02\n",
            "   2.50540346e-01 -2.70004243e-01]\n",
            " [-1.10604782e-02 -2.52827495e-01 -4.64856662e-02  6.36254437e-04\n",
            "   1.46636292e-01 -2.03705709e-02 -2.64115453e-01  3.03840041e-01\n",
            "  -1.63244128e-01  1.02299906e-01]\n",
            " [-1.28336683e-01 -1.17613710e-01  8.93786491e-04  2.57509828e-01\n",
            "  -1.87742725e-01 -1.07798912e-01  2.31372088e-01  2.93328553e-01\n",
            "   2.00659096e-01 -7.46893138e-02]\n",
            " [ 3.20335217e-02 -1.31332681e-01  1.97980598e-01  2.35947788e-01\n",
            "   5.45611829e-02  2.37802882e-02  8.61633569e-02 -2.59898365e-01\n",
            "   1.88463464e-01 -3.81728187e-02]\n",
            " [ 1.07303336e-01 -1.74221039e-01  7.42177516e-02 -2.07359388e-01\n",
            "   1.39797956e-01  9.58934501e-02  2.50639524e-02 -1.77855894e-01\n",
            "   4.45019528e-02  5.22461869e-02]\n",
            " [-2.14618683e-01  2.44088784e-01 -2.46142536e-01  1.88673958e-01\n",
            "  -2.22210154e-01  4.14540879e-02 -1.06023535e-01  1.35420546e-01\n",
            "   2.33824085e-02 -1.35481223e-01]\n",
            " [-1.78867802e-01  2.16664627e-01  2.73236632e-01 -1.00165971e-01\n",
            "   1.44111350e-01 -5.13532348e-02  1.08853392e-01 -1.18465573e-01\n",
            "  -2.36070603e-01 -2.93182224e-01]\n",
            " [-1.34507999e-01 -2.47319505e-01  3.19490284e-02  2.49920294e-01\n",
            "  -2.58631468e-01 -2.72065341e-01 -1.92562059e-01  1.07146509e-01\n",
            "  -1.65041044e-01 -1.75114080e-01]\n",
            " [-4.74481471e-02  1.25786364e-01  1.41500354e-01 -2.49382570e-01\n",
            "  -2.85888258e-02  8.26723054e-02  1.62442140e-02  1.93913609e-01\n",
            "   1.83520019e-01  2.35104233e-01]\n",
            " [-2.09924459e-01  1.12969559e-02 -3.05836707e-01  6.74933419e-02\n",
            "  -1.38628796e-01  2.30656564e-01  1.34132206e-01  2.55546540e-01\n",
            "  -1.93747342e-01  2.22767085e-01]\n",
            " [-1.95684563e-02 -2.95943707e-01  4.08859923e-02 -1.66725025e-01\n",
            "   2.36616451e-02 -7.57660940e-02  2.12665498e-01  1.48343280e-01\n",
            "  -1.30716503e-01  1.31511658e-01]\n",
            " [ 1.96891248e-01 -2.13724047e-01 -1.07370518e-01 -8.85516778e-03\n",
            "  -2.13126838e-01 -5.08040935e-02  2.62602586e-02  2.52810627e-01\n",
            "  -6.25393391e-02  1.96100563e-01]\n",
            " [ 1.99166209e-01  2.48109549e-01 -6.22017495e-02  6.83639199e-02\n",
            "   1.10666886e-01  6.60873717e-03 -2.67048478e-01  1.10690348e-01\n",
            "  -2.28334993e-01 -2.92870164e-01]\n",
            " [ 2.67599732e-01 -2.07692817e-01 -2.36884832e-01  5.59289232e-02\n",
            "  -1.75197914e-01  5.16042784e-02  1.14465624e-01  2.00472414e-01\n",
            "   1.86137438e-01  3.39524746e-02]\n",
            " [ 2.71614194e-01 -2.79839993e-01  7.24539300e-03  2.44417176e-01\n",
            "   2.61238426e-01 -2.72485375e-01  1.01662733e-01  3.26256938e-02\n",
            "   2.17170164e-01 -1.08524941e-01]\n",
            " [ 2.15709865e-01 -7.66931623e-02 -1.97748825e-01 -1.31787499e-02\n",
            "  -7.94490427e-02  1.94134802e-01  2.09602967e-01  3.00286151e-02\n",
            "  -1.98717132e-01 -2.21104592e-01]\n",
            " [-2.35881940e-01 -2.78506190e-01 -2.23167524e-01  4.61408943e-02\n",
            "  -2.64524847e-01  1.79518983e-01 -2.96428613e-02 -1.00892030e-01\n",
            "   2.13198051e-01  1.79882810e-01]\n",
            " [-2.22606286e-01 -2.15520784e-01 -1.75820723e-01 -2.76311666e-01\n",
            "   8.77502188e-02 -3.05290550e-01  1.81117296e-01 -7.82352239e-02\n",
            "   1.77487656e-01 -1.96018696e-01]\n",
            " [ 2.10565031e-01 -1.11879833e-01  4.13737085e-04  2.29014695e-01\n",
            "  -9.61950943e-02 -2.48392612e-01 -2.58066952e-01  1.41924262e-01\n",
            "   9.72672254e-02 -1.69966578e-01]\n",
            " [ 2.23532021e-01  8.86910260e-02  1.03268974e-01  2.10071295e-01\n",
            "   1.06676981e-01 -2.49316424e-01  4.49902890e-03  9.04928707e-03\n",
            "  -2.32381821e-01  1.11024641e-01]\n",
            " [ 1.24166645e-01 -1.96552202e-01 -4.55117710e-02 -9.68567953e-02\n",
            "   1.87116235e-01 -1.32389113e-01 -1.40858009e-01 -2.78473377e-01\n",
            "  -8.03963095e-02  2.81033009e-01]\n",
            " [-1.09943479e-01 -1.66041240e-01 -1.14469118e-02  1.64130360e-01\n",
            "   6.92823753e-02  1.99948281e-01  2.44033605e-01 -1.18326738e-01\n",
            "   1.18595786e-01 -8.64214748e-02]\n",
            " [-8.48255977e-02 -7.39296302e-02  2.63889760e-01  2.29443535e-01\n",
            "  -1.48328885e-01 -4.53810506e-02  7.57846683e-02 -9.82844532e-02\n",
            "   8.90546292e-02 -2.65349537e-01]\n",
            " [ 2.97032855e-02  1.09207228e-01  2.90427059e-02 -2.05068380e-01\n",
            "   1.22431993e-01 -2.45045722e-01 -5.08862361e-02 -1.57882392e-01\n",
            "  -1.68453559e-01  1.24108627e-01]\n",
            " [-2.82210410e-01 -2.29298010e-01  1.37158176e-02 -2.34944493e-01\n",
            "   2.36664400e-01 -2.60867357e-01  5.64927347e-02  2.59208649e-01\n",
            "  -1.08284600e-01  8.56698528e-02]\n",
            " [ 1.57054186e-01 -4.05284353e-02 -1.30954325e-01  2.17553943e-01\n",
            "   1.87007114e-01  9.69835445e-02  1.03566945e-01  1.40402302e-01\n",
            "  -5.17610647e-03 -5.95442913e-02]\n",
            " [-1.53722242e-01 -8.01488012e-02  9.11999270e-02 -2.75239289e-01\n",
            "  -7.72762159e-03  2.41592959e-01 -8.39564800e-02 -1.13762468e-01\n",
            "  -2.41324440e-01  2.16537952e-01]\n",
            " [ 2.99229354e-01 -4.90805991e-02 -7.92460516e-03 -3.81147824e-02\n",
            "  -1.14562415e-01 -1.56132057e-01  2.23361865e-01  3.39884078e-03\n",
            "   8.85615870e-03 -3.56156453e-02]\n",
            " [ 2.48444840e-01 -1.63485393e-01  2.70101875e-01 -1.45556614e-01\n",
            "   2.59876698e-01 -2.20199883e-01 -8.87888297e-02 -3.11987773e-02\n",
            "   1.42868068e-02  2.07292870e-01]\n",
            " [-2.67924845e-01 -2.46126637e-01  1.30692586e-01  2.98843175e-01\n",
            "   2.07532242e-01 -5.30239642e-02  2.72469640e-01 -1.43412217e-01\n",
            "  -8.83840844e-02 -2.39538863e-01]\n",
            " [-3.20859253e-02 -2.74627507e-01 -2.06664249e-01  1.87175840e-01\n",
            "  -1.01049431e-01 -2.27213979e-01 -1.93847120e-01  2.04845503e-01\n",
            "  -2.18822330e-01 -9.76640806e-02]\n",
            " [ 1.12728082e-01 -2.13219196e-01  1.40315935e-01  1.36950448e-01\n",
            "  -1.07644528e-01  1.48823872e-01  1.43862218e-01  2.21438617e-01\n",
            "  -1.03699438e-01  2.29403019e-01]\n",
            " [ 9.46888998e-02 -2.39781663e-02  2.74098273e-02 -1.44216290e-03\n",
            "   8.69705230e-02  1.42941073e-01 -9.84753296e-02  9.47074369e-02\n",
            "   2.58003712e-01 -2.08461910e-01]\n",
            " [ 1.88079700e-01  4.53768335e-02  1.29553810e-01  9.12363827e-02\n",
            "  -2.34865576e-01  2.17614144e-01 -1.64831653e-01 -1.93595123e-02\n",
            "   1.32052572e-02  1.98971003e-01]\n",
            " [ 5.71125895e-02  5.07895872e-02  2.20838293e-01  2.25746647e-01\n",
            "   2.52117485e-01 -2.02758789e-01  2.97364771e-01 -7.44236931e-02\n",
            "   2.02667952e-01 -1.31301373e-01]\n",
            " [-2.00560316e-01  1.22974440e-01 -1.37132555e-01 -1.71077102e-01\n",
            "  -2.32669145e-01  1.24127522e-01 -2.06434224e-02 -4.16107178e-02\n",
            "   2.60195822e-01  1.36296183e-01]\n",
            " [-1.62726060e-01 -1.00035910e-02 -2.47653142e-01  1.54021934e-01\n",
            "  -2.31137618e-01  1.76274553e-01 -1.08360738e-01 -8.07335228e-02\n",
            "   5.22480085e-02 -2.15663835e-01]\n",
            " [-1.95639849e-01  2.78510004e-02  5.11344383e-03 -1.14065714e-01\n",
            "  -7.64569491e-02 -2.10488945e-01  1.35360822e-01  5.62406480e-02\n",
            "  -1.85291380e-01  6.00255746e-03]\n",
            " [ 8.92674364e-03 -2.10498869e-01 -1.19292242e-02 -1.38237104e-01\n",
            "  -2.22463831e-01  1.43860608e-01  1.25919104e-01 -1.82204083e-01\n",
            "   2.66759098e-01  1.26633430e-02]\n",
            " [-2.41583973e-01  6.53313696e-02  2.46306300e-01 -2.90083259e-01\n",
            "  -2.75605172e-01 -1.37809694e-01 -2.23814145e-01  2.45897904e-01\n",
            "   1.62827700e-01  7.06361309e-02]\n",
            " [ 1.06794666e-02 -1.92733780e-01 -7.42415041e-02  2.03487411e-01\n",
            "  -2.41956130e-01 -2.18597353e-01  8.86860937e-02 -1.70600191e-01\n",
            "   1.66437924e-02 -2.06345841e-01]\n",
            " [ 9.05507058e-02 -9.24399048e-02 -2.49374673e-01  1.94055021e-01\n",
            "   3.01200449e-01 -1.43631384e-01  8.13660026e-02 -1.90562680e-01\n",
            "   6.57307580e-02 -1.10414535e-01]\n",
            " [ 3.41903195e-02  2.43302166e-01 -4.61165619e-05 -9.39524621e-02\n",
            "   2.31371194e-01  2.32327972e-02  2.49700978e-01  1.29532456e-01\n",
            "  -1.86921507e-02 -8.75104889e-02]] \n",
            "Biases:\n",
            "[ 0.0096731  -0.00897578  0.00904841 -0.00884423 -0.00871695 -0.00952354\n",
            " -0.00911872  0.00906352  0.00957463 -0.00905515]\n",
            "\n",
            "Weights:\n",
            " [[ 0.32964846]\n",
            " [-0.50906926]\n",
            " [ 0.55615515]\n",
            " [-0.3465137 ]\n",
            " [-0.1230728 ]\n",
            " [-0.4670862 ]\n",
            " [-0.36867136]\n",
            " [ 0.62905926]\n",
            " [ 0.48945698]\n",
            " [-0.26921323]] \n",
            "Biases:\n",
            "[0.00925525]\n"
          ]
        }
      ]
    }
  ]
}